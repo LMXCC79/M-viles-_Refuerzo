{
 "cells": [
  {
   "cell_type": "code",
   "execution_count": 1,
   "metadata": {},
   "outputs": [],
   "source": [
    "import pandas as pd"
   ]
  },
  {
   "cell_type": "code",
   "execution_count": 2,
   "metadata": {},
   "outputs": [],
   "source": [
    "def crear_dummies(df, var_name):\n",
    "    '''\n",
    "    * Recibe el dataframe y el nombre de la variable categorica que necesitemos convertir en dummie\n",
    "    * Crea un dummie de la variable categorica del df\n",
    "    * Elimina la variable que se trabaja en el df original\n",
    "    * Concatena el dummie con el dataframe por columnas\n",
    "    '''\n",
    "    dummy = pd.get_dummies(df [var_name], prefix = var_name)\n",
    "    df = df.drop(var_name, axis=1)\n",
    "    df = pd.concat([df, dummy], axis=1)\n",
    "    return df"
   ]
  }
 ],
 "metadata": {
  "kernelspec": {
   "display_name": ".venv",
   "language": "python",
   "name": "python3"
  },
  "language_info": {
   "codemirror_mode": {
    "name": "ipython",
    "version": 3
   },
   "file_extension": ".py",
   "mimetype": "text/x-python",
   "name": "python",
   "nbconvert_exporter": "python",
   "pygments_lexer": "ipython3",
   "version": "3.11.4"
  }
 },
 "nbformat": 4,
 "nbformat_minor": 2
}
